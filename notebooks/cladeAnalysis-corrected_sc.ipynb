{
 "cells": [
  {
   "cell_type": "markdown",
   "metadata": {},
   "source": [
    "# Imports"
   ]
  },
  {
   "cell_type": "code",
   "execution_count": 1,
   "metadata": {},
   "outputs": [],
   "source": [
    "import os\n",
    "import numpy as np\n",
    "import pandas as pd\n",
    "import subprocess\n",
    "import pickle\n",
    "import matplotlib.pyplot as plt\n",
    "from concurrent.futures import ProcessPoolExecutor\n",
    "import shutil\n",
    "plt.rcParams['axes.facecolor']='white'"
   ]
  },
  {
   "cell_type": "code",
   "execution_count": 2,
   "metadata": {},
   "outputs": [],
   "source": [
    "# Create directory and subdirectories for results of 1000 resamples\n",
    "os.makedirs('resamples', exist_ok=True)\n",
    "for i in range(1000):\n",
    "    # create path for this resample\n",
    "    sub_dir = os.path.join('resamples', str(i))\n",
    "    # create subdirectory with clade analysis results subdirectories\n",
    "    sub_dir_CC = os.path.join(sub_dir, 'clade_analyses_CC')\n",
    "    sub_dir_AB = os.path.join(sub_dir, 'clade_analyses_AB')\n",
    "    os.makedirs(sub_dir_CC, exist_ok=True)\n",
    "    os.makedirs(sub_dir_AB, exist_ok=True)"
   ]
  },
  {
   "cell_type": "code",
   "execution_count": 3,
   "metadata": {},
   "outputs": [],
   "source": [
    "# stableCoalescence_cladeAnalysis.py\n",
    "def run_simulation(i):\n",
    "    # add subdirectory for resample output in the simulation direcory\n",
    "    simulation_id = f\"{i:04d}\" \n",
    "    output_path = os.path.join(\"./simulations\", simulation_id, \"resample_output\")\n",
    "    # Remove the output directory if it exists\n",
    "    if os.path.exists(output_path):\n",
    "        shutil.rmtree(output_path)\n",
    "    # (Re)create the output directory\n",
    "    os.makedirs(output_path)\n",
    "    # run the simulation\n",
    "    command = [\n",
    "        \"python3\",\n",
    "        \"stableCoalescence_cladeAnalysis.py\",\n",
    "        \"-tn\", os.path.join(\"./simulations\", simulation_id, \"transmission_network.subsampled.txt.gz\"),\n",
    "        \"-tt\", os.path.join(\"./simulations\", simulation_id, \"tree.time.subsampled.nwk.gz\"),\n",
    "        \"-g\", os.path.join(\"./simulations\", simulation_id, \"GEMF_files/output.txt.gz\"),\n",
    "        \"-s\", \"0.00092\", # mutation rate\n",
    "        \"-m\", \"1\", # number of mutations for clade analysis \n",
    "        \"-o\", output_path #output\n",
    "    ]\n",
    "    subprocess.run(command)"
   ]
  },
  {
   "cell_type": "code",
   "execution_count": 4,
   "metadata": {},
   "outputs": [],
   "source": [
    "# resample each of the 1100 simulations\n",
    "with ProcessPoolExecutor(max_workers=4) as executor:\n",
    "    executor.map(run_simulation, range(1, 1101))"
   ]
  },
  {
   "cell_type": "markdown",
   "metadata": {},
   "source": [
    "# Primary analysis (3.47-day doubling time, 15% ascertainment rate) tree sizes"
   ]
  },
  {
   "cell_type": "code",
   "execution_count": 5,
   "metadata": {},
   "outputs": [],
   "source": [
    "def read_clade_results(dir):\n",
    "    clade_analyses_d = dict()\n",
    "    for path in sorted(os.listdir(dir)): # pool all clade analyses together\n",
    "        clade_analysis_path = dir + path\n",
    "        key = int(path.split('_')[0])\n",
    "        clade_analyses_d[key] = {'clade_sizes': [], 'subclade_sizes': []}\n",
    "        for line in open(clade_analysis_path):\n",
    "            l = line.strip().strip(']').split('[')\n",
    "            clade_size = int(l[0].strip()) # make each clade size (including single leaves) an integer\n",
    "            subclade_sizes = [int(x) for x in l[1].strip().replace(' ', '').split(',')] # put each subclade size (including single leaves) into a list\n",
    "            clade_analyses_d[key]['clade_sizes'].append(clade_size)\n",
    "            clade_analyses_d[key]['subclade_sizes'].append(subclade_sizes)\n",
    "    return clade_analyses_d"
   ]
  },
  {
   "cell_type": "code",
   "execution_count": 6,
   "metadata": {},
   "outputs": [
    {
     "name": "stdout",
     "output_type": "stream",
     "text": [
      "Less than 787 taxa: 0.014545\n",
      "More than 1000 taxa: 0.983636\n",
      "More than 5000 taxa: 0.967273\n"
     ]
    }
   ],
   "source": [
    "clade_analyses_CC_dir = './resamples/0/clade_analyses_CC/'\n",
    "clade_analyses_AB_dir = './resamples/0/clade_analyses_AB/'\n",
    "\n",
    "clade_analyses_CC_d = read_clade_results(clade_analyses_CC_dir)\n",
    "\n",
    "print('Less than 787 taxa: %f' % (sum([sum(clade_analyses_CC_d[x]['clade_sizes']) < 787 for x in clade_analyses_CC_d])/1100)) \n",
    "print('More than 1000 taxa: %f' % (sum([sum(clade_analyses_CC_d[x]['clade_sizes']) > 1000 for x in clade_analyses_CC_d])/1100))\n",
    "print('More than 5000 taxa: %f' % (sum([sum(clade_analyses_CC_d[x]['clade_sizes']) > 5000 for x in clade_analyses_CC_d])/1100))"
   ]
  },
  {
   "cell_type": "markdown",
   "metadata": {},
   "source": [
    "# Tree shapes and bayes factors"
   ]
  },
  {
   "cell_type": "code",
   "execution_count": 7,
   "metadata": {},
   "outputs": [],
   "source": [
    "unconstrained_results = np.array([1.68,80.85, 10.32, 0.92])/100 # linB, linA, C/C, T/T\n",
    "recCA_results = np.array([77.28, 8.18, 10.49, 3.71])/100 # linB, linA, C/C, T/T"
   ]
  },
  {
   "cell_type": "code",
   "execution_count": 8,
   "metadata": {},
   "outputs": [],
   "source": [
    "def calculate_bf(asr_results, simulation_results):\n",
    "    # Let t_p be a polytomy, t_1C be one clade, and t_2c be two clades. Note that t_p is a topology with a polytomy but is not t_1c. t_p + t_1c equals all topologies with a basal polytomy (Fig. 2a). \n",
    "    # trees are in the order\n",
    "    # (t_p, t_1C, t_2C, (t_p,(t_p,t_1C,t_2C)), (t_1C,(t_p,t_1C,t_2C)), (t_2c,(t_p,t_1C,t_2C)))\n",
    "    compatibility_matrix = np.array([np.array([0, 1, 0, 1, 1, 0, 1, 1, 0, 0, 0, 0]), # S_A\n",
    "                                     np.array([0, 1, 0, 1, 1, 0, 1, 1, 0, 0, 0, 0]), # S_B\n",
    "                                     np.array([0, 0, 1, 1, 1, 0, 1, 1, 0, 0, 0, 0]), # S_CC\n",
    "                                     np.array([0, 0, 1, 1, 1, 0, 1, 1, 0, 0, 0, 0])] # S_TT\n",
    "                                    )\n",
    "                                    \n",
    "    # A matrix of conditional probabilities\n",
    "    # Each row stores the vector Pr(S_MRCA | \\btau)\n",
    "    pr_s_mrca_given_tree = np.array([x/sum(x) if sum(x) > 0 else x for x in compatibility_matrix.T]) # if tree not associated with any haplotype, just keep the row as all 0s\n",
    "    \n",
    "    # Order: S_A, S_B, S_{C/C}, S_{T/T}\n",
    "    pr_s_mrca_given_data = np.array(asr_results)/sum(asr_results)\n",
    "    unnormalized_pr_data_given_s_mrca = pr_s_mrca_given_data.copy()\n",
    "    \n",
    "    # FAVITES simulation information\n",
    "    # the 3 trees are in the order (t_p, t_1C, t_2C)\n",
    "    pr_3_topos = np.array(simulation_results)\n",
    "    pr_trees_given_I1 = np.concatenate([pr_3_topos, np.array([0]*9)])\n",
    "    pr_trees_given_I2 = np.concatenate([np.array([0]*3), np.outer(pr_3_topos, pr_3_topos).flatten()])\n",
    "    \n",
    "    # Equal prior probability of 1 or 2 intros\n",
    "    pr_I1 = 0.5\n",
    "    pr_I2 = 0.5\n",
    "    \n",
    "    pr_s_mrca_and_I1 = np.dot([np.dot(pr_s_mrca_given_tree.T[i], pr_trees_given_I1) for i in range(0,4)], pr_I1) # dot product of P(haplotype|tree) (column) and P(trees|I_n), scaled by P(I_n)\n",
    "    pr_s_mrca_and_I2 = np.dot([np.dot(pr_s_mrca_given_tree.T[i], pr_trees_given_I2) for i in range(0,4)], pr_I2)\n",
    "\n",
    "    posterior_odds = np.dot(unnormalized_pr_data_given_s_mrca, pr_s_mrca_and_I2) / np.dot(unnormalized_pr_data_given_s_mrca, pr_s_mrca_and_I1)\n",
    "    prior_odds = pr_I2/pr_I1\n",
    "    BF = posterior_odds/prior_odds\n",
    "\n",
    "    return(BF)\n",
    "\n"
   ]
  },
  {
   "cell_type": "code",
   "execution_count": 9,
   "metadata": {},
   "outputs": [],
   "source": [
    "def clade_analysis_updated(clade_analyses_CC_dir, clade_analyses_AB_dir, label, min_polytomy_size=100, _print_=False):\n",
    "    # C/C analyses focus on 1-mutation clades\n",
    "    # therefore, all descendant lineages are included:\n",
    "    #   -1 = unmutated leaf\n",
    "    #    1 = mutated leaf separate from a clade\n",
    "    #   >1 = clade\n",
    "    clade_analyses_CC_d = read_clade_results(clade_analyses_CC_dir)\n",
    "\n",
    "    # A/B analyses focus on 2-mutation clades\n",
    "    # only 2-mutation clades are included \n",
    "    clade_analyses_AB_d = read_clade_results(clade_analyses_AB_dir)\n",
    "    \n",
    "    # C/C analysis\n",
    "    cc_count_30perc_twoPolytomies = 0 # how often are there only two 1-mutation clades, each constituting more than 30% of taxa AND with a polytomy at the base of each clade, and no other descendants from the root?\n",
    "    for run in clade_analyses_CC_d:\n",
    "        clade_sizes = clade_analyses_CC_d[run]['clade_sizes'] # get the clade sizes\n",
    "        subclade_sizes = [len(x)>=min_polytomy_size for x in clade_analyses_CC_d[run]['subclade_sizes']] # check if each clade has a polytomy at the base\n",
    "        if len(clade_sizes) == 2: # if there are more than two descendants, including individual leaves, skip\n",
    "            if min(clade_sizes) > (sum(clade_sizes)*0.30): # make sure each clade is >30%\n",
    "                if False not in subclade_sizes: # each clade must have a polytomy at the base\n",
    "                    cc_count_30perc_twoPolytomies += 1\n",
    "    \n",
    "    # A/B analysis\n",
    "    ab_count_30perc_twoPolytomies = 0 # interested in 2 mutations clade that are at least 30% of all taxa + has a basal polytomy + polytomy at 2 mutation clade\n",
    "    lower_constraint = 0.3 # the 2-mutation clade must be at least 30% of all taxa\n",
    "    upper_constraint = 0.7 # the 2-mutation clade must be at most 70% of all taxa\n",
    "\n",
    "    for run in clade_analyses_AB_d:\n",
    "        num_leaves = sum(clade_analyses_CC_d[run]['clade_sizes'])\n",
    "        base_polytomy_size = len(clade_analyses_CC_d[run]['clade_sizes']) # check how many lineages descend from the root\n",
    "        clade_sizes = clade_analyses_AB_d[run]['clade_sizes'] \n",
    "        subclade_sizes = clade_analyses_AB_d[run]['subclade_sizes']\n",
    "        if not clade_sizes: # no 2 mutation clades\n",
    "            continue\n",
    "        for index, clade_size in enumerate(clade_sizes): # loop through all 2 mutation clades\n",
    "            if lower_constraint*num_leaves <= clade_size <= upper_constraint*num_leaves: # clade match size restrictions\n",
    "                if base_polytomy_size >= min_polytomy_size: # basal polytomy\n",
    "                    if len(subclade_sizes[index]) >= min_polytomy_size: # polytomy at 2 mutation clade\n",
    "                        ab_count_30perc_twoPolytomies += 1 # if all conditions are met, add 1 to the count\n",
    "                        break # if one 2 mutation clade meets the conditions, break out of the loop and move on to the next run\n",
    "\n",
    "    # polytomy: checking if there is a polytomy at the base of the tree; can do this using the C/C analysis\n",
    "    min_polytomy_descendants = min_polytomy_size\n",
    "    count_atLeastMinDescendants = 0\n",
    "    for run in clade_analyses_CC_d: # loop through all runs\n",
    "        clade_sizes = clade_analyses_CC_d[run]['clade_sizes'] # get the clade sizes\n",
    "        if len(clade_sizes) >= min_polytomy_descendants:  # if there are at least X number of descendants, including individual leaves\n",
    "            count_atLeastMinDescendants += 1\n",
    "    polytomy_result = count_atLeastMinDescendants/1100\n",
    "    \n",
    "    # calculate bayes factors\n",
    "    cc_result = cc_count_30perc_twoPolytomies/1100\n",
    "    ab_result = ab_count_30perc_twoPolytomies/1100\n",
    "\n",
    "    simulation_results = [polytomy_result-ab_result, ab_result, cc_result] # note that polytomy result is inclusive of ab_result, so subtract ab_result from polytomy_result to avoid double counting\n",
    "    unconstrained_results = np.array([1.68, 80.85, 10.32, 0.92])/100 # linA, linB, C/C, T/T\n",
    "    recCA_results = np.array([77.28, 8.18, 10.49, 3.71])/100 # linA, linB, C/C, T/T\n",
    "    bf_unconstrained = calculate_bf(unconstrained_results, simulation_results)\n",
    "    bf_recCA = calculate_bf(recCA_results, simulation_results)\n",
    "    \n",
    "    if _print_ == True:\n",
    "        print('Proportion with a polytomy at the base: %f\\n' % (count_atLeastMinDescendants/1100))\n",
    "        print('C/C clade analysis: 2 clades, polytomy at base of each clade, each clade possessing at least 30%% of the taxa: %f\\n' % (cc_count_30perc_twoPolytomies/1100))\n",
    "        print('A/B clade analysis: Basal polytomy, polytomy at 2-mut clade, with the clade possessing between 30 and 70%% of the taxa: %f\\n' % (ab_count_30perc_twoPolytomies/1100))\n",
    "        print('Unconstrained Bayes factor: %f' % bf_unconstrained)\n",
    "        print('recCA Bayes factor: %f' % bf_recCA)\n",
    "\n",
    "    #return [label, min_polytomy_size, \"{:.1f}\".format(cc_result*100), \"{:.1f}\".format(ab_result*100), \"{:.1f}\".format(polytomy_result*100), \"{:.1f}\".format(bf_unconstrained), \"{:.1f}\".format(bf_recCA)]\n",
    "    return [cc_count_30perc_twoPolytomies, ab_count_30perc_twoPolytomies, count_atLeastMinDescendants, bf_unconstrained, bf_recCA]\n",
    "\n"
   ]
  },
  {
   "cell_type": "markdown",
   "metadata": {},
   "source": [
    "### Main result"
   ]
  },
  {
   "cell_type": "code",
   "execution_count": 10,
   "metadata": {},
   "outputs": [],
   "source": [
    "cc_counts = []\n",
    "ab_counts = []\n",
    "polytomy_counts = []\n",
    "bf_unconstrained_results = []\n",
    "bf_recCA_results = []\n",
    "\n",
    "for i in range (1000):\n",
    "    clade_analyses_CC_dir = './resamples/' + str(i) + '/clade_analyses_CC/'\n",
    "    clade_analyses_AB_dir = './resamples/' + str(i) + '/clade_analyses_AB/'\n",
    "    a, b, c, d, e = clade_analysis_updated(clade_analyses_CC_dir, clade_analyses_AB_dir, '3.5 DT', min_polytomy_size=100)\n",
    "    cc_counts.append(a)\n",
    "    ab_counts.append(b)\n",
    "    polytomy_counts.append(c)\n",
    "    bf_unconstrained_results.append(d)\n",
    "    bf_recCA_results.append(e)"
   ]
  },
  {
   "cell_type": "code",
   "execution_count": 11,
   "metadata": {},
   "outputs": [
    {
     "name": "stdout",
     "output_type": "stream",
     "text": [
      "Proportion with a polytomy at the base: 0.475455\n",
      "Proportion C/C topology: 0.000000\n",
      "Proportion A/B topology: 0.030909\n",
      "Unconstrained Bayes factor: 4.154836\n",
      "recCA Bayes factor: 4.264418\n"
     ]
    }
   ],
   "source": [
    "# confirm counts of published data\n",
    "# set counts so that frequencies and BFs match published notebook data\n",
    "pub_polytomy_count = 523 # published freq 0.475455\n",
    "pub_cc_count = 0 # published freq 0\n",
    "pub_ab_count = 34 # published freq 0.030909\n",
    "# setup simulation result list\n",
    "pub_sim_results = [pub_polytomy_count/1100-pub_ab_count/1100, pub_ab_count/1100, pub_cc_count/1100]\n",
    "# setup BEAST result list\n",
    "unconstrained_results = np.array([1.68, 80.85, 10.32, 0.92])/100 # linA, linB, C/C, T/T\n",
    "recCA_results = np.array([77.28, 8.18, 10.49, 3.71])/100 # linA, linB, C/C, T/T\n",
    "# get BFs\n",
    "pub_bf_unconstrained = calculate_bf(unconstrained_results, pub_sim_results)\n",
    "pub_bf_recCA = calculate_bf(recCA_results, pub_sim_results)\n",
    "# print results\n",
    "print('Proportion with a polytomy at the base: %f' % (pub_polytomy_count/1100))\n",
    "print('Proportion C/C topology: %f' % (pub_cc_count/1100))\n",
    "print('Proportion A/B topology: %f' % (pub_ab_count/1100))\n",
    "print('Unconstrained Bayes factor: %f' % pub_bf_unconstrained)\n",
    "print('recCA Bayes factor: %f' % pub_bf_recCA)"
   ]
  },
  {
   "cell_type": "code",
   "execution_count": 12,
   "metadata": {
    "scrolled": true
   },
   "outputs": [
    {
     "data": {
      "image/png": "[encoded data removed]",
      "text/plain": [
       "<Figure size 432x288 with 1 Axes>"
      ]
     },
     "metadata": {
      "needs_background": "light"
     },
     "output_type": "display_data"
    }
   ],
   "source": [
    "weights = [1.0 / len(cc_counts)] * len(cc_counts)\n",
    "# Plot the histogram\n",
    "plt.hist(cc_counts, bins=np.arange(-0.5, 9, 1), weights=weights, alpha = 0.5)  \n",
    "plt.title('CC topologies\\n(corrected stable coalescence)')\n",
    "plt.xlabel('Count')\n",
    "plt.ylabel('Frequency')\n",
    "\n",
    "# Show published value\n",
    "plt.axvline(x=pub_cc_count, color='r', linestyle='dashed', linewidth=3, label='Published value')\n",
    "\n",
    "# Omit expected value (mean), as the distribution makes it redundant\n",
    "mean_CC = np.mean(cc_counts)\n",
    "# plt.axvline(x=mean_CC, color='g', linestyle='dashed', linewidth=3, label='Expected value')\n",
    "\n",
    "plt.legend()\n",
    "\n",
    "plt.savefig('cc_resample_distribution_corrected_sc.png')"
   ]
  },
  {
   "cell_type": "code",
   "execution_count": 13,
   "metadata": {},
   "outputs": [
    {
     "data": {
      "image/png": "[encoded data removed]",
      "text/plain": [
       "<Figure size 432x288 with 1 Axes>"
      ]
     },
     "metadata": {
      "needs_background": "light"
     },
     "output_type": "display_data"
    }
   ],
   "source": [
    "weights = [1.0 / len(ab_counts)] * len(ab_counts)\n",
    "# Plot the histogram\n",
    "plt.hist(ab_counts, bins=np.arange(19.5, 60, 1), weights=weights, alpha = 0.5)  \n",
    "plt.title('AB topologies\\n(corrected stable coalescence)')\n",
    "plt.xlabel('Count')\n",
    "plt.ylabel('Frequency')\n",
    "\n",
    "# Show published value\n",
    "plt.axvline(x=pub_ab_count, color='r', linestyle='dashed', linewidth=3, label='Published value')\n",
    "\n",
    "# Omit expected value (mean), as the distribution makes it redundant\n",
    "mean_AB = np.mean(ab_counts)\n",
    "# plt.axvline(x=mean_AB, color='g', linestyle='dashed', linewidth=3, label='Expected value')\n",
    "\n",
    "plt.legend()\n",
    "\n",
    "plt.savefig('ab_resample_distribution_corrected_sc.png')"
   ]
  },
  {
   "cell_type": "code",
   "execution_count": 19,
   "metadata": {},
   "outputs": [
    {
     "data": {
      "image/png": "[encoded data removed]",
      "text/plain": [
       "<Figure size 432x288 with 1 Axes>"
      ]
     },
     "metadata": {
      "needs_background": "light"
     },
     "output_type": "display_data"
    }
   ],
   "source": [
    "weights = [1.0 / len(polytomy_counts)] * len(polytomy_counts)\n",
    "# Plot the histogram\n",
    "plt.hist(polytomy_counts, bins=np.arange(440.5, 530, 1), weights=weights, alpha = 0.5)  \n",
    "plt.title('Basal polytomies\\n(corrected stable coalescence)')\n",
    "plt.xlabel('Count')\n",
    "plt.ylabel('Frequency')\n",
    "\n",
    "# Show published value\n",
    "plt.axvline(x=pub_polytomy_count, color='r', linestyle='dashed', linewidth=3, label='Published value')\n",
    "\n",
    "# Omit expected value (mean), as the distribution makes it redundant\n",
    "mean_polytomy = np.mean(polytomy_counts)\n",
    "# plt.axvline(x=mean_polytomy, color='g', linestyle='dashed', linewidth=3, label='Expected value')\n",
    "\n",
    "plt.legend()\n",
    "\n",
    "plt.savefig('polytomy_resample_distribution_corrected_sc.png')"
   ]
  },
  {
   "cell_type": "code",
   "execution_count": 15,
   "metadata": {},
   "outputs": [
    {
     "data": {
      "image/png": "[encoded data removed]",
      "text/plain": [
       "<Figure size 432x288 with 1 Axes>"
      ]
     },
     "metadata": {
      "needs_background": "light"
     },
     "output_type": "display_data"
    }
   ],
   "source": [
    "weights = [1.0 / len(bf_unconstrained_results)] * len(bf_unconstrained_results)\n",
    "# Plot the histogram\n",
    "plt.hist(bf_unconstrained_results, bins=np.arange(2.4, 8, 0.2), weights=weights, alpha = 0.5)  \n",
    "plt.title('Bayes factors - unconstrained rooting\\n(corrected stable coalescence)')\n",
    "plt.xlabel('Value')\n",
    "plt.ylabel('Frequency')\n",
    "\n",
    "# Show published value\n",
    "plt.axvline(x=pub_bf_unconstrained, color='r', linestyle='dashed', linewidth=3, label='Published value')\n",
    "\n",
    "# Omit expected value (mean), as the distribution makes it redundant\n",
    "mean_unc = np.mean(bf_unconstrained_results)\n",
    "# plt.axvline(x=mean_unc, color='g', linestyle='dashed', linewidth=3, label='Expected value')\n",
    "\n",
    "plt.legend()\n",
    "\n",
    "plt.savefig('unc_BF_resample_distribution_corrected_sc.png')"
   ]
  },
  {
   "cell_type": "code",
   "execution_count": 16,
   "metadata": {},
   "outputs": [
    {
     "data": {
      "image/png": "[encoded data removed]",
      "text/plain": [
       "<Figure size 432x288 with 1 Axes>"
      ]
     },
     "metadata": {
      "needs_background": "light"
     },
     "output_type": "display_data"
    }
   ],
   "source": [
    "weights = [1.0 / len(bf_recCA_results)] * len(bf_recCA_results)\n",
    "# Plot the histogram\n",
    "plt.hist(bf_recCA_results, bins=np.arange(2.4, 8, 0.2), weights=weights, alpha = 0.5) \n",
    "plt.title('Bayes factors - recCA rooting\\n(corrected stable coalescence)')\n",
    "plt.xlabel('Value')\n",
    "plt.ylabel('Frequency')\n",
    "\n",
    "# Show published value\n",
    "plt.axvline(x=pub_bf_recCA, color='r', linestyle='dashed', linewidth=3, label='Published value')\n",
    "\n",
    "# Omit expected value (mean), as the distribution makes it redundant\n",
    "mean_recCA = np.mean(bf_recCA_results)\n",
    "# plt.axvline(x=mean_recCA, color='g', linestyle='dashed', linewidth=3, label='Expected value')\n",
    "\n",
    "plt.legend()\n",
    "\n",
    "plt.savefig('recCA_BF_resample_distribution_corrected_sc.png')"
   ]
  },
  {
   "cell_type": "code",
   "execution_count": 18,
   "metadata": {},
   "outputs": [
    {
     "name": "stdout",
     "output_type": "stream",
     "text": [
      "expected polytomy rate: 491.402\n",
      "expected AB rate: 36.287\n",
      "expected CC rate: 2.035\n",
      "expected BF (unconstrained): 3.4967090229091236\n",
      "expected BF (recCA): 3.5826949956249536\n",
      "BF of expected rates (unconstrained): 3.410732953966616\n",
      "BF of exptected rates (recCA): 3.4948611110996026\n"
     ]
    }
   ],
   "source": [
    "# Convert means to topology likelihoods for the Bayes factor calculation\n",
    "mean_simulation_results = np.array([mean_polytomy - mean_AB, mean_AB, mean_CC]) / 1100\n",
    "\n",
    "# Setup the MRCA haplotype posterior probabilities for the Bayes factor calculation\n",
    "unconstrained_results = np.array([1.68, 80.85, 10.32, 0.92])/100  \n",
    "recCA_results = np.array([77.28, 8.18, 10.49, 3.71])/100  \n",
    "\n",
    "# Calculate Bayes factors\n",
    "bf_unconstrained = calculate_bf(unconstrained_results, mean_simulation_results)\n",
    "bf_recCA = calculate_bf(recCA_results, mean_simulation_results)\n",
    "\n",
    "print(f'expected polytomy rate: {mean_polytomy}')\n",
    "print(f'expected AB rate: {mean_AB}')\n",
    "print(f'expected CC rate: {mean_CC}')\n",
    "print(f'expected BF (unconstrained): {mean_unc}')\n",
    "print(f'expected BF (recCA): {mean_recCA}')\n",
    "print(f'BF of expected rates (unconstrained): {bf_unconstrained}')\n",
    "print(f'BF of exptected rates (recCA): {bf_recCA}')\n"
   ]
  },
  {
   "cell_type": "code",
   "execution_count": null,
   "metadata": {},
   "outputs": [],
   "source": []
  }
 ],
 "metadata": {
  "kernelspec": {
   "display_name": "Python 3",
   "language": "python",
   "name": "python3"
  },
  "language_info": {
   "codemirror_mode": {
    "name": "ipython",
    "version": 3
   },
   "file_extension": ".py",
   "mimetype": "text/x-python",
   "name": "python",
   "nbconvert_exporter": "python",
   "pygments_lexer": "ipython3",
   "version": "3.6.15"
  }
 },
 "nbformat": 4,
 "nbformat_minor": 5
}
